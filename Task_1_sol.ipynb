{
 "cells": [
  {
   "cell_type": "code",
   "execution_count": 3,
   "metadata": {},
   "outputs": [
    {
     "name": "stdout",
     "output_type": "stream",
     "text": [
      "0\n",
      "1\n",
      "1\n"
     ]
    }
   ],
   "source": [
    "#1\n",
    "def fibonnaci(n):\n",
    "\n",
    "    if n ==0:\n",
    "        return 0\n",
    "    elif n ==1:\n",
    "        return 1\n",
    "    else:\n",
    "        return fibonnaci(n-1) + fibonnaci(n-2)\n",
    "print(fibonnaci(0))\n",
    "print(fibonnaci(1))\n",
    "print(fibonnaci(2))\n",
    "#note: u cant do 'return fibonnaci (n-1) + (n-2)'"
   ]
  },
  {
   "cell_type": "code",
   "execution_count": 47,
   "metadata": {},
   "outputs": [
    {
     "name": "stdout",
     "output_type": "stream",
     "text": [
      "you with be force the may\n"
     ]
    }
   ],
   "source": [
    "#2\n",
    "def rev_sentence(sentence):\n",
    " \n",
    " # first split the string into words\n",
    "    words = sentence.split(' ')\n",
    " \n",
    " # then reverse the split string list and join using space\n",
    "    reverse_sentence = ' '.join(reversed(words))\n",
    " \n",
    " # return the joined string\n",
    "    return reverse_sentence\n",
    "s = 'may the force be with you'\n",
    "print(rev_sentence(s))"
   ]
  },
  {
   "cell_type": "code",
   "execution_count": 45,
   "metadata": {},
   "outputs": [
    {
     "name": "stdout",
     "output_type": "stream",
     "text": [
      "number is prime\n",
      "number is not prime\n"
     ]
    }
   ],
   "source": [
    "#3\n",
    "def isPrime(num):\n",
    "    if num>1:\n",
    "        for n in range(2,num):\n",
    "            if num % n ==0:\n",
    "                return 'number is not prime'\n",
    "        return'number is prime'\n",
    "    else:\n",
    "        return'number is not prime'\n",
    "print(isPrime(5))\n",
    "print (isPrime(4))\n",
    "    "
   ]
  },
  {
   "cell_type": "code",
   "execution_count": 39,
   "metadata": {},
   "outputs": [
    {
     "name": "stdout",
     "output_type": "stream",
     "text": [
      "False\n"
     ]
    }
   ],
   "source": [
    "#4\n",
    "s = '-121'\n",
    "lens = len(s)\n",
    "index1 = 0\n",
    "index2 = lens-1\n",
    "flag = True\n",
    "\n",
    "for i in range (int(lens/2)):\n",
    "    \n",
    "    if s[index1] == s[index2]:\n",
    "        pass\n",
    "    else:\n",
    "        flag = False\n",
    "    index1 +=1\n",
    "    index2 -=1\n",
    "print (flag)\n"
   ]
  },
  {
   "cell_type": "code",
   "execution_count": null,
   "metadata": {},
   "outputs": [],
   "source": []
  }
 ],
 "metadata": {
  "kernelspec": {
   "display_name": "Python 3",
   "language": "python",
   "name": "python3"
  },
  "language_info": {
   "codemirror_mode": {
    "name": "ipython",
    "version": 3
   },
   "file_extension": ".py",
   "mimetype": "text/x-python",
   "name": "python",
   "nbconvert_exporter": "python",
   "pygments_lexer": "ipython3",
   "version": "3.8.5"
  }
 },
 "nbformat": 4,
 "nbformat_minor": 4
}
